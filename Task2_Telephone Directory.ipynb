{
 "cells": [
  {
   "cell_type": "code",
   "execution_count": 3,
   "id": "afb8dea4",
   "metadata": {},
   "outputs": [
    {
     "name": "stdout",
     "output_type": "stream",
     "text": [
      "{'_id': ObjectId('63a1d042193417411c01a896'), 'Name': 'John', 'Phone number': '123-456-7890', 'Place': 'Los Angeles'}\n",
      "{'_id': ObjectId('63a1d099193417411c01a898'), 'Name': 'Omkar', 'Phone number': '123-456-7890', 'Place': 'Toronto'}\n",
      "{'_id': ObjectId('63a1d0b0193417411c01a89a'), 'Name': 'Omkar', 'Phone number': '123-456-7890', 'Place': 'New York'}\n",
      "{'_id': ObjectId('63a1d099193417411c01a898'), 'Name': 'Omkar', 'Phone number': '123-456-7890', 'Place': 'Toronto'}\n",
      "0\n"
     ]
    }
   ],
   "source": [
    "import pymongo\n",
    "\n",
    "client = pymongo.MongoClient(\"mongodb://localhost:27017/\")\n",
    "mydb = client [\"mytaskdatabase\"] \n",
    "mycol = mydb [\"Telephone\"] \n",
    "document = { \"Name\": \"Omkar\", \"Phone number\": \"123-456-7890\", \"Place\": \"New York\" }\n",
    "x = mycol.insert_one(document)\n",
    "for x in mycol.find():\n",
    "    print (x)\n",
    "query = { \"Name\": \"Omkar\" }\n",
    "result = mycol.find_one(query)\n",
    "\n",
    "print(result)\n",
    "update = { \"$set\": { \"Place\": \"Toronto\" } }\n",
    "result = mycol.update_one(query, update)\n",
    "\n",
    "print(result.modified_count)\n"
   ]
  },
  {
   "cell_type": "code",
   "execution_count": null,
   "id": "4ef15c78",
   "metadata": {},
   "outputs": [],
   "source": []
  }
 ],
 "metadata": {
  "kernelspec": {
   "display_name": "Python 3 (ipykernel)",
   "language": "python",
   "name": "python3"
  },
  "language_info": {
   "codemirror_mode": {
    "name": "ipython",
    "version": 3
   },
   "file_extension": ".py",
   "mimetype": "text/x-python",
   "name": "python",
   "nbconvert_exporter": "python",
   "pygments_lexer": "ipython3",
   "version": "3.9.12"
  }
 },
 "nbformat": 4,
 "nbformat_minor": 5
}
